{
 "cells": [
  {
   "cell_type": "code",
   "execution_count": 1,
   "metadata": {},
   "outputs": [],
   "source": [
    "# import ml libs\n",
    "import numpy as np\n",
    "import pandas as pd\n",
    "import matplotlib.pyplot as plt\n",
    "import seaborn as sns\n",
    "from sklearn import preprocessing\n",
    "%matplotlib inline"
   ]
  },
  {
   "cell_type": "code",
   "execution_count": 2,
   "metadata": {},
   "outputs": [],
   "source": [
    "# import data\n",
    "iris = pd.read_csv('iris.csv')\n",
    "iris.head()\n",
    "# read csv\n",
    "iris = pd.read_csv('iris.csv')"
   ]
  },
  {
   "cell_type": "code",
   "execution_count": 3,
   "metadata": {},
   "outputs": [],
   "source": [
    "# split data for traning and validation\n",
    "from sklearn.model_selection import train_test_split\n",
    "X = iris.drop('Species', axis=1)\n",
    "X = X.drop('Id', axis=1)\n",
    "y = iris['Species']\n",
    "X_train, X_test, y_train, y_test = train_test_split(X, y, test_size=0.3, random_state=101)"
   ]
  },
  {
   "cell_type": "code",
   "execution_count": 4,
   "metadata": {},
   "outputs": [],
   "source": [
    "# simplest model to train\n",
    "from sklearn.svm import SVC\n",
    "model = SVC()\n",
    "model.fit(X_train, y_train)\n",
    "predictions = model.predict(X_test)"
   ]
  },
  {
   "cell_type": "code",
   "execution_count": 5,
   "metadata": {},
   "outputs": [
    {
     "name": "stdout",
     "output_type": "stream",
     "text": [
      "[[13  0  0]\n",
      " [ 0 19  1]\n",
      " [ 0  0 12]]\n",
      "                 precision    recall  f1-score   support\n",
      "\n",
      "    Iris-setosa       1.00      1.00      1.00        13\n",
      "Iris-versicolor       1.00      0.95      0.97        20\n",
      " Iris-virginica       0.92      1.00      0.96        12\n",
      "\n",
      "       accuracy                           0.98        45\n",
      "      macro avg       0.97      0.98      0.98        45\n",
      "   weighted avg       0.98      0.98      0.98        45\n",
      "\n"
     ]
    }
   ],
   "source": [
    "# evaluate model\n",
    "from sklearn.metrics import classification_report, confusion_matrix\n",
    "print(confusion_matrix(y_test, predictions))\n",
    "print(classification_report(y_test, predictions))"
   ]
  },
  {
   "cell_type": "code",
   "execution_count": 6,
   "metadata": {},
   "outputs": [
    {
     "name": "stdout",
     "output_type": "stream",
     "text": [
      "Fitting 5 folds for each of 25 candidates, totalling 125 fits\n",
      "[CV 1/5] END ....................C=0.1, gamma=1;, score=0.905 total time=   0.0s\n",
      "[CV 2/5] END ....................C=0.1, gamma=1;, score=1.000 total time=   0.0s\n",
      "[CV 3/5] END ....................C=0.1, gamma=1;, score=0.905 total time=   0.0s\n",
      "[CV 4/5] END ....................C=0.1, gamma=1;, score=0.905 total time=   0.0s\n",
      "[CV 5/5] END ....................C=0.1, gamma=1;, score=0.952 total time=   0.0s\n",
      "[CV 1/5] END ..................C=0.1, gamma=0.1;, score=0.857 total time=   0.0s\n",
      "[CV 2/5] END ..................C=0.1, gamma=0.1;, score=0.714 total time=   0.0s\n",
      "[CV 3/5] END ..................C=0.1, gamma=0.1;, score=0.857 total time=   0.0s\n",
      "[CV 4/5] END ..................C=0.1, gamma=0.1;, score=0.810 total time=   0.0s\n",
      "[CV 5/5] END ..................C=0.1, gamma=0.1;, score=0.810 total time=   0.0s\n",
      "[CV 1/5] END .................C=0.1, gamma=0.01;, score=0.714 total time=   0.0s\n",
      "[CV 2/5] END .................C=0.1, gamma=0.01;, score=0.714 total time=   0.0s\n",
      "[CV 3/5] END .................C=0.1, gamma=0.01;, score=0.714 total time=   0.0s\n",
      "[CV 4/5] END .................C=0.1, gamma=0.01;, score=0.714 total time=   0.0s\n",
      "[CV 5/5] END .................C=0.1, gamma=0.01;, score=0.714 total time=   0.0s\n",
      "[CV 1/5] END ................C=0.1, gamma=0.001;, score=0.333 total time=   0.0s\n",
      "[CV 2/5] END ................C=0.1, gamma=0.001;, score=0.333 total time=   0.0s\n",
      "[CV 3/5] END ................C=0.1, gamma=0.001;, score=0.714 total time=   0.0s\n",
      "[CV 4/5] END ................C=0.1, gamma=0.001;, score=0.714 total time=   0.0s\n",
      "[CV 5/5] END ................C=0.1, gamma=0.001;, score=0.714 total time=   0.0s\n",
      "[CV 1/5] END ...............C=0.1, gamma=0.0001;, score=0.333 total time=   0.0s\n",
      "[CV 2/5] END ...............C=0.1, gamma=0.0001;, score=0.333 total time=   0.0s\n",
      "[CV 3/5] END ...............C=0.1, gamma=0.0001;, score=0.714 total time=   0.0s\n",
      "[CV 4/5] END ...............C=0.1, gamma=0.0001;, score=0.714 total time=   0.0s\n",
      "[CV 5/5] END ...............C=0.1, gamma=0.0001;, score=0.714 total time=   0.0s\n",
      "[CV 1/5] END ......................C=1, gamma=1;, score=1.000 total time=   0.0s\n",
      "[CV 2/5] END ......................C=1, gamma=1;, score=0.905 total time=   0.0s\n",
      "[CV 3/5] END ......................C=1, gamma=1;, score=0.905 total time=   0.0s\n",
      "[CV 4/5] END ......................C=1, gamma=1;, score=0.952 total time=   0.0s\n",
      "[CV 5/5] END ......................C=1, gamma=1;, score=0.952 total time=   0.0s\n",
      "[CV 1/5] END ....................C=1, gamma=0.1;, score=1.000 total time=   0.0s\n",
      "[CV 2/5] END ....................C=1, gamma=0.1;, score=1.000 total time=   0.0s\n",
      "[CV 3/5] END ....................C=1, gamma=0.1;, score=0.905 total time=   0.0s\n",
      "[CV 4/5] END ....................C=1, gamma=0.1;, score=0.905 total time=   0.0s\n",
      "[CV 5/5] END ....................C=1, gamma=0.1;, score=1.000 total time=   0.0s\n",
      "[CV 1/5] END ...................C=1, gamma=0.01;, score=0.952 total time=   0.0s\n",
      "[CV 2/5] END ...................C=1, gamma=0.01;, score=0.810 total time=   0.0s\n",
      "[CV 3/5] END ...................C=1, gamma=0.01;, score=0.857 total time=   0.0s\n",
      "[CV 4/5] END ...................C=1, gamma=0.01;, score=0.857 total time=   0.0s\n",
      "[CV 5/5] END ...................C=1, gamma=0.01;, score=0.905 total time=   0.0s\n",
      "[CV 1/5] END ..................C=1, gamma=0.001;, score=0.714 total time=   0.0s\n",
      "[CV 2/5] END ..................C=1, gamma=0.001;, score=0.714 total time=   0.0s\n",
      "[CV 3/5] END ..................C=1, gamma=0.001;, score=0.714 total time=   0.0s\n",
      "[CV 4/5] END ..................C=1, gamma=0.001;, score=0.714 total time=   0.0s\n",
      "[CV 5/5] END ..................C=1, gamma=0.001;, score=0.714 total time=   0.0s\n",
      "[CV 1/5] END .................C=1, gamma=0.0001;, score=0.333 total time=   0.0s\n",
      "[CV 2/5] END .................C=1, gamma=0.0001;, score=0.333 total time=   0.0s\n",
      "[CV 3/5] END .................C=1, gamma=0.0001;, score=0.714 total time=   0.0s\n",
      "[CV 4/5] END .................C=1, gamma=0.0001;, score=0.714 total time=   0.0s\n",
      "[CV 5/5] END .................C=1, gamma=0.0001;, score=0.714 total time=   0.0s\n",
      "[CV 1/5] END .....................C=10, gamma=1;, score=1.000 total time=   0.0s\n",
      "[CV 2/5] END .....................C=10, gamma=1;, score=0.905 total time=   0.0s\n",
      "[CV 3/5] END .....................C=10, gamma=1;, score=0.905 total time=   0.0s\n",
      "[CV 4/5] END .....................C=10, gamma=1;, score=0.905 total time=   0.0s\n",
      "[CV 5/5] END .....................C=10, gamma=1;, score=0.952 total time=   0.0s\n",
      "[CV 1/5] END ...................C=10, gamma=0.1;, score=1.000 total time=   0.0s\n",
      "[CV 2/5] END ...................C=10, gamma=0.1;, score=1.000 total time=   0.0s\n",
      "[CV 3/5] END ...................C=10, gamma=0.1;, score=0.905 total time=   0.0s\n",
      "[CV 4/5] END ...................C=10, gamma=0.1;, score=0.905 total time=   0.0s\n",
      "[CV 5/5] END ...................C=10, gamma=0.1;, score=0.952 total time=   0.0s\n",
      "[CV 1/5] END ..................C=10, gamma=0.01;, score=1.000 total time=   0.0s\n",
      "[CV 2/5] END ..................C=10, gamma=0.01;, score=1.000 total time=   0.0s\n",
      "[CV 3/5] END ..................C=10, gamma=0.01;, score=0.905 total time=   0.0s\n",
      "[CV 4/5] END ..................C=10, gamma=0.01;, score=0.905 total time=   0.0s\n",
      "[CV 5/5] END ..................C=10, gamma=0.01;, score=1.000 total time=   0.0s\n",
      "[CV 1/5] END .................C=10, gamma=0.001;, score=0.952 total time=   0.0s\n",
      "[CV 2/5] END .................C=10, gamma=0.001;, score=0.810 total time=   0.0s\n",
      "[CV 3/5] END .................C=10, gamma=0.001;, score=0.857 total time=   0.0s\n",
      "[CV 4/5] END .................C=10, gamma=0.001;, score=0.857 total time=   0.0s\n",
      "[CV 5/5] END .................C=10, gamma=0.001;, score=0.905 total time=   0.0s\n",
      "[CV 1/5] END ................C=10, gamma=0.0001;, score=0.714 total time=   0.0s\n",
      "[CV 2/5] END ................C=10, gamma=0.0001;, score=0.714 total time=   0.0s\n",
      "[CV 3/5] END ................C=10, gamma=0.0001;, score=0.714 total time=   0.0s\n",
      "[CV 4/5] END ................C=10, gamma=0.0001;, score=0.714 total time=   0.0s\n",
      "[CV 5/5] END ................C=10, gamma=0.0001;, score=0.714 total time=   0.0s\n",
      "[CV 1/5] END ....................C=100, gamma=1;, score=1.000 total time=   0.0s\n",
      "[CV 2/5] END ....................C=100, gamma=1;, score=0.905 total time=   0.0s\n",
      "[CV 3/5] END ....................C=100, gamma=1;, score=0.857 total time=   0.0s\n",
      "[CV 4/5] END ....................C=100, gamma=1;, score=0.905 total time=   0.0s\n",
      "[CV 5/5] END ....................C=100, gamma=1;, score=0.952 total time=   0.0s\n",
      "[CV 1/5] END ..................C=100, gamma=0.1;, score=1.000 total time=   0.0s\n",
      "[CV 2/5] END ..................C=100, gamma=0.1;, score=0.905 total time=   0.0s\n",
      "[CV 3/5] END ..................C=100, gamma=0.1;, score=0.857 total time=   0.0s\n",
      "[CV 4/5] END ..................C=100, gamma=0.1;, score=0.905 total time=   0.0s\n",
      "[CV 5/5] END ..................C=100, gamma=0.1;, score=0.952 total time=   0.0s\n",
      "[CV 1/5] END .................C=100, gamma=0.01;, score=1.000 total time=   0.0s\n",
      "[CV 2/5] END .................C=100, gamma=0.01;, score=1.000 total time=   0.0s\n",
      "[CV 3/5] END .................C=100, gamma=0.01;, score=0.905 total time=   0.0s\n",
      "[CV 4/5] END .................C=100, gamma=0.01;, score=0.905 total time=   0.0s\n",
      "[CV 5/5] END .................C=100, gamma=0.01;, score=0.952 total time=   0.0s\n",
      "[CV 1/5] END ................C=100, gamma=0.001;, score=1.000 total time=   0.0s\n",
      "[CV 2/5] END ................C=100, gamma=0.001;, score=1.000 total time=   0.0s\n",
      "[CV 3/5] END ................C=100, gamma=0.001;, score=0.905 total time=   0.0s\n",
      "[CV 4/5] END ................C=100, gamma=0.001;, score=0.905 total time=   0.0s\n",
      "[CV 5/5] END ................C=100, gamma=0.001;, score=1.000 total time=   0.0s\n",
      "[CV 1/5] END ...............C=100, gamma=0.0001;, score=0.952 total time=   0.0s\n",
      "[CV 2/5] END ...............C=100, gamma=0.0001;, score=0.810 total time=   0.0s\n",
      "[CV 3/5] END ...............C=100, gamma=0.0001;, score=0.857 total time=   0.0s\n",
      "[CV 4/5] END ...............C=100, gamma=0.0001;, score=0.857 total time=   0.0s\n",
      "[CV 5/5] END ...............C=100, gamma=0.0001;, score=0.905 total time=   0.0s\n",
      "[CV 1/5] END ...................C=1000, gamma=1;, score=1.000 total time=   0.0s\n",
      "[CV 2/5] END ...................C=1000, gamma=1;, score=0.905 total time=   0.0s\n",
      "[CV 3/5] END ...................C=1000, gamma=1;, score=0.857 total time=   0.0s\n",
      "[CV 4/5] END ...................C=1000, gamma=1;, score=0.905 total time=   0.0s\n",
      "[CV 5/5] END ...................C=1000, gamma=1;, score=0.952 total time=   0.0s\n",
      "[CV 1/5] END .................C=1000, gamma=0.1;, score=1.000 total time=   0.0s\n",
      "[CV 2/5] END .................C=1000, gamma=0.1;, score=0.905 total time=   0.0s\n",
      "[CV 3/5] END .................C=1000, gamma=0.1;, score=0.857 total time=   0.0s\n",
      "[CV 4/5] END .................C=1000, gamma=0.1;, score=0.905 total time=   0.0s\n",
      "[CV 5/5] END .................C=1000, gamma=0.1;, score=0.952 total time=   0.0s\n",
      "[CV 1/5] END ................C=1000, gamma=0.01;, score=1.000 total time=   0.0s\n",
      "[CV 2/5] END ................C=1000, gamma=0.01;, score=1.000 total time=   0.0s\n",
      "[CV 3/5] END ................C=1000, gamma=0.01;, score=0.857 total time=   0.0s\n",
      "[CV 4/5] END ................C=1000, gamma=0.01;, score=0.905 total time=   0.0s\n",
      "[CV 5/5] END ................C=1000, gamma=0.01;, score=0.952 total time=   0.0s\n",
      "[CV 1/5] END ...............C=1000, gamma=0.001;, score=1.000 total time=   0.0s\n",
      "[CV 2/5] END ...............C=1000, gamma=0.001;, score=1.000 total time=   0.0s\n",
      "[CV 3/5] END ...............C=1000, gamma=0.001;, score=0.905 total time=   0.0s\n",
      "[CV 4/5] END ...............C=1000, gamma=0.001;, score=0.905 total time=   0.0s\n",
      "[CV 5/5] END ...............C=1000, gamma=0.001;, score=0.952 total time=   0.0s\n",
      "[CV 1/5] END ..............C=1000, gamma=0.0001;, score=1.000 total time=   0.0s\n",
      "[CV 2/5] END ..............C=1000, gamma=0.0001;, score=1.000 total time=   0.0s\n",
      "[CV 3/5] END ..............C=1000, gamma=0.0001;, score=0.905 total time=   0.0s\n",
      "[CV 4/5] END ..............C=1000, gamma=0.0001;, score=0.905 total time=   0.0s\n",
      "[CV 5/5] END ..............C=1000, gamma=0.0001;, score=1.000 total time=   0.0s\n"
     ]
    }
   ],
   "source": [
    "# improve model\n",
    "from sklearn.model_selection import GridSearchCV\n",
    "param_grid = {'C': [0.1, 1, 10, 100, 1000], 'gamma': [1, 0.1, 0.01, 0.001, 0.0001]}\n",
    "grid = GridSearchCV(SVC(), param_grid, refit=True, verbose=3)\n",
    "grid.fit(X_train, y_train)\n",
    "grid_predictions = grid.predict(X_test)"
   ]
  },
  {
   "cell_type": "code",
   "execution_count": 7,
   "metadata": {},
   "outputs": [
    {
     "name": "stdout",
     "output_type": "stream",
     "text": [
      "[[13  0  0]\n",
      " [ 0 19  1]\n",
      " [ 0  0 12]]\n",
      "                 precision    recall  f1-score   support\n",
      "\n",
      "    Iris-setosa       1.00      1.00      1.00        13\n",
      "Iris-versicolor       1.00      0.95      0.97        20\n",
      " Iris-virginica       0.92      1.00      0.96        12\n",
      "\n",
      "       accuracy                           0.98        45\n",
      "      macro avg       0.97      0.98      0.98        45\n",
      "   weighted avg       0.98      0.98      0.98        45\n",
      "\n"
     ]
    }
   ],
   "source": [
    "# evaluate improved model\n",
    "print(confusion_matrix(y_test, grid_predictions))\n",
    "print(classification_report(y_test, grid_predictions))"
   ]
  },
  {
   "cell_type": "code",
   "execution_count": 8,
   "metadata": {},
   "outputs": [],
   "source": [
    "# save model\n",
    "import pickle\n",
    "pickle.dump(grid, open('model.pkl', 'wb'))"
   ]
  },
  {
   "cell_type": "code",
   "execution_count": null,
   "metadata": {},
   "outputs": [],
   "source": []
  }
 ],
 "metadata": {
  "kernelspec": {
   "display_name": "Python 3",
   "language": "python",
   "name": "python3"
  },
  "language_info": {
   "codemirror_mode": {
    "name": "ipython",
    "version": 3
   },
   "file_extension": ".py",
   "mimetype": "text/x-python",
   "name": "python",
   "nbconvert_exporter": "python",
   "pygments_lexer": "ipython3",
   "version": "3.11.0"
  },
  "orig_nbformat": 4
 },
 "nbformat": 4,
 "nbformat_minor": 2
}
